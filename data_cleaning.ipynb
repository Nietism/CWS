{
 "cells": [
  {
   "cell_type": "markdown",
   "metadata": {},
   "source": [
    "# Data cleaning"
   ]
  },
  {
   "cell_type": "code",
   "execution_count": 1,
   "metadata": {},
   "outputs": [],
   "source": [
    "import sys\n",
    "import re"
   ]
  },
  {
   "cell_type": "code",
   "execution_count": 2,
   "metadata": {},
   "outputs": [],
   "source": [
    "# f_in = open('2021_sugon_data.txt', 'r')\n",
    "# for line in f_in.readlines():\n",
    "#     line = line.strip()\n",
    "#     if re.search(r'^(<doc id>|(</doc>))', line):\n",
    "#         print(line)\n",
    "#         continue\n",
    "#     line = remove_empty_paried_punc(line)\n",
    "#     line = remove_html_tags(line)\n",
    "#     line = remove_control_chars(line)\n",
    "#     print(line)\n",
    "    "
   ]
  },
  {
   "cell_type": "code",
   "execution_count": 3,
   "metadata": {},
   "outputs": [],
   "source": [
    "# line = '各地进行实【驰】【堪】测和调查，对【贪】【捆】村、【贪】困户以【扔】空白户等进行彻底排查摸底|地勘贫困贫及'\n",
    "# # print(len(line), line.index('|'))\n",
    "# sentence = line[0:line.index('|')]\n",
    "# error_chars_set = line[line.index('|') + 1:]"
   ]
  },
  {
   "cell_type": "code",
   "execution_count": 4,
   "metadata": {},
   "outputs": [],
   "source": [
    "# original_text = sentence.replace('【', '').replace('】', '')\n",
    "# print(original_text)"
   ]
  },
  {
   "cell_type": "code",
   "execution_count": 5,
   "metadata": {},
   "outputs": [],
   "source": [
    "# wrong_ids = []\n",
    "# bracket_count = 0\n",
    "# for index in range(1, len(line)):\n",
    "#     if(line[index - 1] == '【'):\n",
    "#         bracket_count += 1\n",
    "#         wrong_ids.append(index - (2 * bracket_count - 1))\n",
    "# wrong_ids"
   ]
  },
  {
   "cell_type": "code",
   "execution_count": 6,
   "metadata": {},
   "outputs": [],
   "source": [
    "# correct_text = sentence\n",
    "# err_index = 0\n",
    "# for index in range(1, len(correct_text)):\n",
    "#     if(correct_text[index - 1] == '【'):\n",
    "#         correct_text = correct_text[:index] + error_chars_set[err_index] + correct_text[index + 1:]\n",
    "#         err_index += 1\n",
    "\n",
    "# correct_text = correct_text.replace('【', '').replace('】', '')\n",
    "# print(correct_text)"
   ]
  },
  {
   "cell_type": "code",
   "execution_count": 7,
   "metadata": {},
   "outputs": [],
   "source": [
    "def remove_empty_paried_punc(in_str):\n",
    "    return in_str.replace('（）', '').replace('《》', '').replace('【】', '').replace('[]', '')\n",
    "\n",
    "def remove_html_tags(in_str):\n",
    "    html_pattern = re.compile(r'<[^>]+>', re.S)\n",
    "    return html_pattern.sub('', in_str)\n",
    "\n",
    "def remove_control_chars(in_str):\n",
    "    control_chars = ''.join(map(chr, list(range(0, 32)) + list(range(127, 160))))\n",
    "    control_chars = re.compile('[%s]' % re.escape(control_chars))\n",
    "    return control_chars.sub('', in_str)\n",
    "\n",
    "def process_by_line(line):\n",
    "    line = remove_empty_paried_punc(line)\n",
    "    line = remove_html_tags(line)\n",
    "    line = remove_control_chars(line)\n",
    "    \n",
    "    sentence = line[0:line.index('|')]\n",
    "    error_chars_set = line[line.index('|') + 1:]\n",
    "\n",
    "    original_text = sentence.replace('【', '').replace('】', '').replace('|', '')\n",
    "    \n",
    "    wrong_ids = []\n",
    "    bracket_count = 0\n",
    "    for index in range(1, len(line)):\n",
    "        if(line[index - 1] == '【'):\n",
    "            bracket_count += 1\n",
    "            wrong_ids.append(index - (2 * bracket_count - 1))\n",
    "    \n",
    "    correct_text = sentence\n",
    "    err_index = 0\n",
    "    for index in range(1, len(correct_text)):\n",
    "        if(correct_text[index - 1] == '【'):\n",
    "            correct_text = correct_text[:index] + error_chars_set[err_index] + correct_text[index + 1:]\n",
    "            err_index += 1\n",
    "\n",
    "    correct_text = correct_text.replace('【', '').replace('】', '').replace('|', '').replace('_', '')\n",
    "\n",
    "    return original_text, wrong_ids, correct_text"
   ]
  },
  {
   "cell_type": "code",
   "execution_count": 8,
   "metadata": {},
   "outputs": [
    {
     "ename": "FileNotFoundError",
     "evalue": "[Errno 2] No such file or directory: '2021_sugon_data.txt'",
     "output_type": "error",
     "traceback": [
      "\u001b[1;31m---------------------------------------------------------------------------\u001b[0m",
      "\u001b[1;31mFileNotFoundError\u001b[0m                         Traceback (most recent call last)",
      "\u001b[1;32m~\\AppData\\Local\\Temp/ipykernel_18768/2737023710.py\u001b[0m in \u001b[0;36m<module>\u001b[1;34m\u001b[0m\n\u001b[0;32m      1\u001b[0m \u001b[0mid\u001b[0m \u001b[1;33m=\u001b[0m \u001b[1;36m0\u001b[0m\u001b[1;33m\u001b[0m\u001b[1;33m\u001b[0m\u001b[0m\n\u001b[1;32m----> 2\u001b[1;33m \u001b[0mf_in\u001b[0m \u001b[1;33m=\u001b[0m \u001b[0mopen\u001b[0m\u001b[1;33m(\u001b[0m\u001b[1;34m'2021_sugon_data.txt'\u001b[0m\u001b[1;33m,\u001b[0m \u001b[1;34m'r'\u001b[0m\u001b[1;33m)\u001b[0m\u001b[1;33m\u001b[0m\u001b[1;33m\u001b[0m\u001b[0m\n\u001b[0m\u001b[0;32m      3\u001b[0m \u001b[1;32mfor\u001b[0m \u001b[0mline\u001b[0m \u001b[1;32min\u001b[0m \u001b[0mf_in\u001b[0m\u001b[1;33m.\u001b[0m\u001b[0mreadlines\u001b[0m\u001b[1;33m(\u001b[0m\u001b[1;33m)\u001b[0m\u001b[1;33m:\u001b[0m\u001b[1;33m\u001b[0m\u001b[1;33m\u001b[0m\u001b[0m\n\u001b[0;32m      4\u001b[0m     \u001b[1;31m# line = line.strip()\u001b[0m\u001b[1;33m\u001b[0m\u001b[1;33m\u001b[0m\u001b[1;33m\u001b[0m\u001b[0m\n\u001b[0;32m      5\u001b[0m     \u001b[1;31m# if re.search(r'^(<doc id>|(</doc>))', line):\u001b[0m\u001b[1;33m\u001b[0m\u001b[1;33m\u001b[0m\u001b[1;33m\u001b[0m\u001b[0m\n",
      "\u001b[1;31mFileNotFoundError\u001b[0m: [Errno 2] No such file or directory: '2021_sugon_data.txt'"
     ]
    }
   ],
   "source": [
    "id = 0\n",
    "f_in = open('2021_sugon_data.txt', 'r')\n",
    "for line in f_in.readlines():\n",
    "    # line = line.strip()\n",
    "    # if re.search(r'^(<doc id>|(</doc>))', line):\n",
    "    #     print(line)\n",
    "    #     continue\n",
    "    id += 1\n",
    "    # original_text, wrong_ids, correct_text = process_by_line(line)\n",
    "\n",
    "    sentence = line[0:line.index('|')]\n",
    "    error_chars_set = line[line.index('|') + 1:]\n",
    "\n",
    "    original_text = sentence.replace('【', '').replace('】', '').replace('|', '')\n",
    "        \n",
    "    wrong_ids = []\n",
    "    bracket_count = 0\n",
    "    for index in range(1, len(line)):\n",
    "        if(line[index - 1] == '【'):\n",
    "            bracket_count += 1\n",
    "            wrong_ids.append(index - (2 * bracket_count - 1))\n",
    "        \n",
    "    correct_text = sentence\n",
    "    err_index = 0\n",
    "    for index in range(1, len(correct_text)):\n",
    "        if(correct_text[index - 1] == '【'):\n",
    "            correct_text = correct_text[:index] + error_chars_set[err_index] + correct_text[index + 1:]\n",
    "            err_index += 1\n",
    "\n",
    "    correct_text = correct_text.replace('【', '').replace('】', '').replace('|', '').replace('_', '')\n",
    "\n",
    "\n",
    "    print(id, original_text, wrong_ids, correct_text)\n",
    "\n"
   ]
  },
  {
   "cell_type": "code",
   "execution_count": null,
   "metadata": {},
   "outputs": [],
   "source": []
  },
  {
   "cell_type": "code",
   "execution_count": 3,
   "metadata": {},
   "outputs": [
    {
     "name": "stdout",
     "output_type": "stream",
     "text": [
      "966)为进一步推进全省排许水行业高技能人才队伍建设，为城市排水安全“保驾护航”，日获前，全省排水管道工技能竞赛在厦门市赛，来自全省共78名排水行业的技术能手参赛 [13, 42, 60] 966)为进一步推进全省排_水行业高技能人才队伍建设，为城市排水安全“保驾护航”，日_前，全省排水管道工技能竞赛在厦门市开赛，来自全省共78名排水行业的技术能手参赛\n",
      "[{\"id\": 966, \"original_text\": \"966)为进一步推进全省排许水行业高技能人才队伍建设，为城市排水安全“保驾护航”，日获前，全省排水管道工技能竞赛在厦门市赛，来自全省共78名排水行业的技术能手参赛\", \"wrong_ids\": [13, 42, 60], \"correct_text\": \"966)为进一步推进全省排_水行业高技能人才队伍建设，为城市排水安全“保驾护航”，日_前，全省排水管道工技能竞赛在厦门市开赛，来自全省共78名排水行业的技术能手参赛\"}]\n"
     ]
    }
   ],
   "source": [
    "    import sys\n",
    "    import re\n",
    "    import json\n",
    "\n",
    "    line = '966)为进一步推进全省排【许】水行业高技能人才队伍建设，为城市排水安全“保驾护航”，日【获】前，全省排水管道工技能竞赛在厦门市【】赛，来自全省共78名排水行业的技术能手参赛|__开'\n",
    "    sentence = line[0:line.index('|')]\n",
    "    error_chars_set = line[line.index('|') + 1:]\n",
    "\n",
    "    original_text = sentence.replace('【', '').replace('】', '').replace('|', '')\n",
    "        \n",
    "    wrong_ids = []\n",
    "    bracket_count = 0\n",
    "    for index in range(1, len(line)):\n",
    "        if(line[index - 1] == '【'):\n",
    "            bracket_count += 1\n",
    "            wrong_ids.append(index - (2 * bracket_count - 1))\n",
    "        \n",
    "    correct_text = sentence\n",
    "    err_index = 0\n",
    "    for index in range(1, len(correct_text)):\n",
    "        if(correct_text[index - 1] == '【'):\n",
    "            correct_text = correct_text[:index] + error_chars_set[err_index] + correct_text[index + 1:]\n",
    "            err_index += 1\n",
    "\n",
    "    correct_text = correct_text.replace('【', '').replace('】', '').replace('|', '')\n",
    "    id = 966\n",
    "\n",
    "    print(original_text, wrong_ids, correct_text)\n",
    "\n",
    "    raw_data = [ { \"id\" : id, \"original_text\" : original_text, \"wrong_ids\" : wrong_ids, \"correct_text\" : correct_text } ]\n",
    "    line_data = json.dumps(raw_data, ensure_ascii=False)\n",
    "    print(line_data)\n",
    "    \n"
   ]
  },
  {
   "cell_type": "code",
   "execution_count": null,
   "metadata": {},
   "outputs": [],
   "source": [
    "id = 0\n",
    "\n",
    "f_in = open('2021_sugon_data.txt', 'r')\n",
    "f_out = open('cleaning_data.txt', 'w')\n",
    "\n",
    "for line in f_in.readlines():\n",
    "    # line = line.strip()\n",
    "    # if re.search(r'^(<doc id>|(</doc>))', line):\n",
    "    #     print(line)\n",
    "    #     continue\n",
    "    id += 1\n",
    "    # original_text, wrong_ids, correct_text = process_by_line(line)\n",
    "    line = line[line.index(')') + 1:]\n",
    "\n",
    "    sentence = line[0:line.index('|')]\n",
    "    error_chars_set = line[line.index('|') + 1:]\n",
    "\n",
    "    original_text = sentence.replace('【', '').replace('】', '').replace('|', '')\n",
    "        \n",
    "    wrong_ids = []\n",
    "    bracket_count = 0\n",
    "    for index in range(1, len(line)):\n",
    "        if(line[index - 1] == '【'):\n",
    "            bracket_count += 1\n",
    "            wrong_ids.append(index - (2 * bracket_count - 1))\n",
    "        \n",
    "    correct_text = sentence\n",
    "    err_index = 0\n",
    "    for index in range(1, len(correct_text)):\n",
    "        if(correct_text[index - 1] == '【'):\n",
    "            correct_text = correct_text[:index] + error_chars_set[err_index] + correct_text[index + 1:]\n",
    "            err_index += 1\n",
    "\n",
    "    correct_text = correct_text.replace('【', '').replace('】', '').replace('|', '').replace('_', '')\n",
    "\n",
    "    # print(id, original_text, wrong_ids, correct_text)\n",
    "    raw_data = [ { \"id\" : id, \"original_text\" : original_text, \"wrong_ids\" : wrong_ids, \"correct_text\" : correct_text } ]\n",
    "    # line_data = json.dumps(raw_data, ensure_ascii=False)\n",
    "    # print(line_data)\n",
    "    f_out.write(json.dumps(raw_data, ensure_ascii=False, indent=4))\n",
    "\n"
   ]
  },
  {
   "cell_type": "code",
   "execution_count": null,
   "metadata": {},
   "outputs": [],
   "source": [
    "f_out.close()"
   ]
  },
  {
   "cell_type": "code",
   "execution_count": null,
   "metadata": {},
   "outputs": [],
   "source": [
    "f_in.close()"
   ]
  },
  {
   "cell_type": "code",
   "execution_count": null,
   "metadata": {},
   "outputs": [],
   "source": [
    "f_in = open('C:\\\\Users\\\\1\\\\Desktop\\\\test.json', 'r', encoding='utf-8')"
   ]
  },
  {
   "cell_type": "code",
   "execution_count": null,
   "metadata": {},
   "outputs": [],
   "source": []
  }
 ],
 "metadata": {
  "interpreter": {
   "hash": "6152f7bfa03653fb118ecd7c5fd279534c3a46a58fd7506dc522a094114d8e26"
  },
  "kernelspec": {
   "display_name": "Python 3.8.12 64-bit ('torch_cpu': conda)",
   "language": "python",
   "name": "python3"
  },
  "language_info": {
   "codemirror_mode": {
    "name": "ipython",
    "version": 3
   },
   "file_extension": ".py",
   "mimetype": "text/x-python",
   "name": "python",
   "nbconvert_exporter": "python",
   "pygments_lexer": "ipython3",
   "version": "3.8.12"
  },
  "orig_nbformat": 4
 },
 "nbformat": 4,
 "nbformat_minor": 2
}
