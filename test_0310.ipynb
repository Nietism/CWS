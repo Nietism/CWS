{
 "cells": [
  {
   "cell_type": "code",
   "execution_count": 10,
   "metadata": {},
   "outputs": [],
   "source": [
    "import sys\n",
    "import re"
   ]
  },
  {
   "cell_type": "code",
   "execution_count": 14,
   "metadata": {},
   "outputs": [
    {
     "name": "stdout",
     "output_type": "stream",
     "text": [
      "迈向  充满  希望  的  新  世纪  ——  一九九八年  新年  讲话  （  附  图片  １  张  ）\n"
     ]
    }
   ],
   "source": [
    "f_in = open('icwb2-data/training/pku_training.txt', 'r')\n",
    "for line in f_in.readlines():\n",
    "    line = line.strip()\n",
    "    # if re.search(r'^(<doc id>|(</doc>))', line):\n",
    "    #     print(line)\n",
    "    #     continue\n",
    "    print(line)\n",
    "    break"
   ]
  },
  {
   "cell_type": "code",
   "execution_count": 3,
   "metadata": {},
   "outputs": [],
   "source": [
    "def generate_features(line):\n",
    "\n",
    "    return 0"
   ]
  },
  {
   "cell_type": "code",
   "execution_count": 4,
   "metadata": {},
   "outputs": [
    {
     "name": "stdout",
     "output_type": "stream",
     "text": [
      "['1迈', '2#', '3向', '4##', '5#迈', '6迈向', '7向 ']\n",
      "['1向', '2迈', '3 ', '4#迈', '5迈向', '6向 ', '7  ']\n",
      "['1充', '2 ', '3满', '4  ', '5 充', '6充满', '7满 ']\n",
      "['1满', '2充', '3 ', '4 充', '5充满', '6满 ', '7  ']\n",
      "['1希', '2 ', '3望', '4  ', '5 希', '6希望', '7望 ']\n",
      "['1望', '2希', '3 ', '4 希', '5希望', '6望 ', '7  ']\n",
      "['1的', '2 ', '3 ', '4  ', '5 的', '6的 ', '7  ']\n",
      "['1新', '2 ', '3 ', '4  ', '5 新', '6新 ', '7  ']\n",
      "['1世', '2 ', '3纪', '4  ', '5 世', '6世纪', '7纪 ']\n",
      "['1纪', '2世', '3 ', '4 世', '5世纪', '6纪 ', '7  ']\n",
      "['1—', '2 ', '3—', '4  ', '5 —', '6——', '7— ']\n",
      "['1—', '2—', '3 ', '4 —', '5——', '6— ', '7  ']\n",
      "['1一', '2 ', '3九', '4  ', '5 一', '6一九', '7九九']\n",
      "['1九', '2一', '3九', '4 一', '5一九', '6九九', '7九八']\n",
      "['1九', '2九', '3八', '4一九', '5九九', '6九八', '7八年']\n",
      "['1八', '2九', '3年', '4九九', '5九八', '6八年', '7年 ']\n",
      "['1年', '2八', '3 ', '4九八', '5八年', '6年 ', '7  ']\n",
      "['1新', '2 ', '3年', '4  ', '5 新', '6新年', '7年 ']\n",
      "['1年', '2新', '3 ', '4 新', '5新年', '6年 ', '7  ']\n",
      "['1讲', '2 ', '3话', '4  ', '5 讲', '6讲话', '7话 ']\n",
      "['1话', '2讲', '3 ', '4 讲', '5讲话', '6话 ', '7  ']\n",
      "['1（', '2 ', '3 ', '4  ', '5 （', '6（ ', '7  ']\n",
      "['1附', '2 ', '3 ', '4  ', '5 附', '6附 ', '7  ']\n",
      "['1图', '2 ', '3片', '4  ', '5 图', '6图片', '7片 ']\n",
      "['1片', '2图', '3 ', '4 图', '5图片', '6片 ', '7  ']\n",
      "['1１', '2 ', '3 ', '4  ', '5 １', '6１ ', '7  ']\n",
      "['1张', '2 ', '3 ', '4  ', '5 张', '6张 ', '7  ']\n",
      "['1）', '2 ', '3#', '4  ', '5 ）', '6）#', '7##']\n"
     ]
    }
   ],
   "source": [
    "def gen_features(x):  # 枚举得到每个字的特征向量\n",
    "    for i in range(len(x)):\n",
    "        if(x[i] == \" \"):\n",
    "            continue\n",
    "        left2 = x[i-2] if i-2 >= 0 else '#'\n",
    "        left1 = x[i-1] if i-1 >= 0 else '#'\n",
    "        mid = x[i]\n",
    "        right1 = x[i+1] if i+1 < len(x) else '#'\n",
    "        right2 = x[i+2] if i+2 < len(x) else '#'\n",
    "        features = ['1'+mid, '2'+left1, '3'+right1,\n",
    "                    '4'+left2+left1, '5'+left1+mid, '6'+mid+right1, '7'+right1+right2]\n",
    "        yield features\n",
    "\n",
    "features = gen_features('迈向  充满  希望  的  新  世纪  ——  一九九八年  新年  讲话  （  附  图片  １  张  ）')\n",
    "# features = gen_features(\"深证  Ａ  股  ４０６·４５  ４０８·１５  ４３０·１２  ４０７·５０ \".strip())\n",
    "for feature in features:\n",
    "    print(feature)"
   ]
  },
  {
   "cell_type": "code",
   "execution_count": 3,
   "metadata": {},
   "outputs": [],
   "source": [
    "feature_dict = {}"
   ]
  },
  {
   "cell_type": "code",
   "execution_count": 7,
   "metadata": {},
   "outputs": [
    {
     "data": {
      "text/plain": [
       "{'讲话': 114514}"
      ]
     },
     "execution_count": 7,
     "metadata": {},
     "output_type": "execute_result"
    }
   ],
   "source": [
    "feature_dict.update({\"讲话\": 114514})\n",
    "feature_dict"
   ]
  },
  {
   "cell_type": "code",
   "execution_count": null,
   "metadata": {},
   "outputs": [],
   "source": []
  }
 ],
 "metadata": {
  "interpreter": {
   "hash": "6152f7bfa03653fb118ecd7c5fd279534c3a46a58fd7506dc522a094114d8e26"
  },
  "kernelspec": {
   "display_name": "PyCharm (alice_d2l_from_scratch)",
   "language": "python",
   "name": "python3"
  },
  "language_info": {
   "codemirror_mode": {
    "name": "ipython",
    "version": 3
   },
   "file_extension": ".py",
   "mimetype": "text/x-python",
   "name": "python",
   "nbconvert_exporter": "python",
   "pygments_lexer": "ipython3",
   "version": "3.8.12"
  },
  "orig_nbformat": 4
 },
 "nbformat": 4,
 "nbformat_minor": 2
}
